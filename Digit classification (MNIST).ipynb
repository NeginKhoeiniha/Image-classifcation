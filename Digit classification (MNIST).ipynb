{
 "cells": [
  {
   "cell_type": "code",
   "execution_count": 1,
   "metadata": {},
   "outputs": [],
   "source": [
    "# imports\n",
    "import tensorflow as tf"
   ]
  },
  {
   "cell_type": "code",
   "execution_count": 7,
   "metadata": {},
   "outputs": [],
   "source": [
    "\n",
    "# We have designed a class to stop the training when the model reaches a desired accuracy\n",
    "\n",
    "class myCallback(tf.keras.callbacks.Callback):\n",
    "    def on_epoch_end(self, epoch, logs={}):\n",
    "        if(logs.get('accuracy')>0.998):\n",
    "            print(\"\\nReached 99.8% accuracy so cancelling training!\")\n",
    "            self.model.stop_training = True\n",
    "                \n",
    "callbacks = myCallback()"
   ]
  },
  {
   "cell_type": "code",
   "execution_count": 8,
   "metadata": {},
   "outputs": [],
   "source": [
    "# Load the mnist dataset\n",
    "mnist = tf.keras.datasets.mnist\n",
    "(training_images, training_labels), (test_images, test_labels) = mnist.load_data()"
   ]
  },
  {
   "cell_type": "code",
   "execution_count": 9,
   "metadata": {},
   "outputs": [],
   "source": [
    "# First we will reshape the images and adjust the values to have a faster model\n",
    "# That's because the first convolution expects a single tensor containing everything, \n",
    "# so instead of 60,000 28x28x1 items in a list, we have a single 4D list that is 60,000x28x28x1, \n",
    "# and the same for the test images. \n",
    "# If you don't do this, you'll get an error when training as the Convolutions do not recognize the shape. \n",
    "\n",
    "training_images=training_images.reshape(60000, 28, 28, 1)\n",
    "training_images=training_images / 255.0\n",
    "test_images = test_images.reshape(10000, 28, 28, 1)\n",
    "test_images=test_images/255.0"
   ]
  },
  {
   "cell_type": "code",
   "execution_count": 10,
   "metadata": {},
   "outputs": [],
   "source": [
    "# Model with 3 convilutional layers, each followed by a maxpooling layer.\n",
    "# The model is then followed by the previous neural network\n",
    "\n",
    "model = tf.keras.models.Sequential([\n",
    "  tf.keras.layers.Conv2D(64, (3,3), activation='relu', input_shape=(28, 28, 1)),\n",
    "  tf.keras.layers.MaxPooling2D(2, 2),\n",
    "  tf.keras.layers.Conv2D(64, (3,3), activation='relu'),\n",
    "  tf.keras.layers.MaxPooling2D(2,2),\n",
    "  tf.keras.layers.Flatten(),\n",
    "  tf.keras.layers.Dense(128, activation='relu'),\n",
    "  tf.keras.layers.Dense(10, activation='softmax')\n",
    "])"
   ]
  },
  {
   "cell_type": "code",
   "execution_count": 11,
   "metadata": {},
   "outputs": [
    {
     "name": "stdout",
     "output_type": "stream",
     "text": [
      "Model: \"sequential_1\"\n",
      "_________________________________________________________________\n",
      "Layer (type)                 Output Shape              Param #   \n",
      "=================================================================\n",
      "conv2d_2 (Conv2D)            (None, 26, 26, 64)        640       \n",
      "_________________________________________________________________\n",
      "max_pooling2d_2 (MaxPooling2 (None, 13, 13, 64)        0         \n",
      "_________________________________________________________________\n",
      "conv2d_3 (Conv2D)            (None, 11, 11, 64)        36928     \n",
      "_________________________________________________________________\n",
      "max_pooling2d_3 (MaxPooling2 (None, 5, 5, 64)          0         \n",
      "_________________________________________________________________\n",
      "flatten_1 (Flatten)          (None, 1600)              0         \n",
      "_________________________________________________________________\n",
      "dense_2 (Dense)              (None, 128)               204928    \n",
      "_________________________________________________________________\n",
      "dense_3 (Dense)              (None, 10)                1290      \n",
      "=================================================================\n",
      "Total params: 243,786\n",
      "Trainable params: 243,786\n",
      "Non-trainable params: 0\n",
      "_________________________________________________________________\n",
      "Epoch 1/20\n",
      "1875/1875 [==============================] - 115s 61ms/step - loss: 0.2707 - accuracy: 0.9176\n",
      "Epoch 2/20\n",
      "1875/1875 [==============================] - 127s 68ms/step - loss: 0.0396 - accuracy: 0.9874\n",
      "Epoch 3/20\n",
      "1875/1875 [==============================] - 130s 69ms/step - loss: 0.0255 - accuracy: 0.9922\n",
      "Epoch 4/20\n",
      "1875/1875 [==============================] - 143s 76ms/step - loss: 0.0159 - accuracy: 0.9951s - loss: 0.015\n",
      "Epoch 5/20\n",
      "1875/1875 [==============================] - 172s 92ms/step - loss: 0.0121 - accuracy: 0.9959\n",
      "Epoch 6/20\n",
      "1875/1875 [==============================] - 177s 95ms/step - loss: 0.0097 - accuracy: 0.9968\n",
      "Epoch 7/20\n",
      "1875/1875 [==============================] - 171s 91ms/step - loss: 0.0089 - accuracy: 0.9970s - loss: 0.0089 - ac - ETA: 0s - loss: 0.0089 - \n",
      "Epoch 8/20\n",
      "1875/1875 [==============================] - 183s 98ms/step - loss: 0.0070 - accuracy: 0.9977\n",
      "Epoch 9/20\n",
      "1875/1875 [==============================] - 186s 99ms/step - loss: 0.0051 - accuracy: 0.9982\n",
      "Epoch 10/20\n",
      "1875/1875 [==============================] - 192s 102ms/step - loss: 0.0036 - accuracy: 0.9988\n",
      "\n",
      "Reached 99.8% accuracy so cancelling training!\n",
      "313/313 [==============================] - 11s 34ms/step - loss: 0.0430 - accuracy: 0.9902\n"
     ]
    }
   ],
   "source": [
    "\n",
    "model.compile(optimizer='adam', loss='sparse_categorical_crossentropy', metrics=['accuracy'])\n",
    "model.summary()    # To see the steps\n",
    "model.fit(training_images, training_labels, epochs=20, callbacks=[callbacks])\n",
    "test_loss = model.evaluate(test_images, test_labels)"
   ]
  },
  {
   "cell_type": "code",
   "execution_count": 24,
   "metadata": {},
   "outputs": [
    {
     "name": "stdout",
     "output_type": "stream",
     "text": [
      "[4.1704016e-14 9.8957423e-17 2.2879029e-15 3.4909367e-16 6.0699364e-14\n",
      " 2.5729095e-14 1.0000000e+02 6.9606279e-20 8.0361499e-13 3.5240799e-23]\n",
      "6\n"
     ]
    }
   ],
   "source": [
    "classifications = model.predict(test_images)\n",
    "\n",
    "print(classifications[88]*100)\n",
    "print(test_labels[88])"
   ]
  },
  {
   "cell_type": "code",
   "execution_count": 22,
   "metadata": {},
   "outputs": [
    {
     "data": {
      "text/plain": [
       "<matplotlib.image.AxesImage at 0x19f7dd55220>"
      ]
     },
     "execution_count": 22,
     "metadata": {},
     "output_type": "execute_result"
    },
    {
     "data": {
      "image/png": "[encoded data removed]",
      "text/plain": [
       "<Figure size 432x288 with 1 Axes>"
      ]
     },
     "metadata": {
      "needs_background": "light"
     },
     "output_type": "display_data"
    }
   ],
   "source": [
    "import matplotlib.pyplot as plt\n",
    "plt.imshow(test_images[88])"
   ]
  },
  {
   "cell_type": "code",
   "execution_count": null,
   "metadata": {},
   "outputs": [],
   "source": []
  }
 ],
 "metadata": {
  "kernelspec": {
   "display_name": "Python 3",
   "language": "python",
   "name": "python3"
  },
  "language_info": {
   "codemirror_mode": {
    "name": "ipython",
    "version": 3
   },
   "file_extension": ".py",
   "mimetype": "text/x-python",
   "name": "python",
   "nbconvert_exporter": "python",
   "pygments_lexer": "ipython3",
   "version": "3.8.5"
  }
 },
 "nbformat": 4,
 "nbformat_minor": 4
}
