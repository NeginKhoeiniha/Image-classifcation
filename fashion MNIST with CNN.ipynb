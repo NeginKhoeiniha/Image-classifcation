{
 "cells": [
  {
   "cell_type": "code",
   "execution_count": 1,
   "metadata": {},
   "outputs": [],
   "source": [
    "# imports\n",
    "import tensorflow as tf"
   ]
  },
  {
   "cell_type": "code",
   "execution_count": 7,
   "metadata": {},
   "outputs": [],
   "source": [
    "# We have designed a class to stop the training when the model reaches a desired accuracy\n",
    "\n",
    "class myCallback(tf.keras.callbacks.Callback):\n",
    "    def on_epoch_end(self, epoch, logs={}):\n",
    "        if(logs.get('acc')>0.998):\n",
    "            print(\"\\nReached 99.8% accuracy so cancelling training!\")\n",
    "            self.model.stop_training = True\n",
    "                \n",
    "callbacks = myCallback()\n"
   ]
  },
  {
   "cell_type": "code",
   "execution_count": 8,
   "metadata": {},
   "outputs": [],
   "source": [
    "# Load the mnist dataset\n",
    "mnist = tf.keras.datasets.fashion_mnist\n",
    "(training_images, training_labels), (test_images, test_labels) = mnist.load_data() "
   ]
  },
  {
   "cell_type": "code",
   "execution_count": 3,
   "metadata": {},
   "outputs": [],
   "source": [
    "# First we will reshape the images and adjust the values to have a faster model\n",
    "# That's because the first convolution expects a single tensor containing everything, \n",
    "# so instead of 60,000 28x28x1 items in a list, we have a single 4D list that is 60,000x28x28x1, \n",
    "# and the same for the test images. \n",
    "# If you don't do this, you'll get an error when training as the Convolutions do not recognize the shape. \n",
    "\n",
    "training_images=training_images.reshape(60000, 28, 28, 1)\n",
    "training_images=training_images / 255.0\n",
    "test_images = test_images.reshape(10000, 28, 28, 1)\n",
    "test_images=test_images/255.0\n"
   ]
  },
  {
   "cell_type": "code",
   "execution_count": 4,
   "metadata": {},
   "outputs": [],
   "source": [
    "# Model with 3 convilutional layers, each followed by a maxpooling layer.\n",
    "# The model is then followed by the previous neural network\n",
    "\n",
    "model = tf.keras.models.Sequential([\n",
    "  tf.keras.layers.Conv2D(64, (3,3), activation='relu', input_shape=(28, 28, 1)),\n",
    "  tf.keras.layers.MaxPooling2D(2, 2),\n",
    "  tf.keras.layers.Conv2D(64, (3,3), activation='relu'),\n",
    "  tf.keras.layers.MaxPooling2D(2,2),\n",
    "  tf.keras.layers.Flatten(),\n",
    "  tf.keras.layers.Dense(128, activation='relu'),\n",
    "  tf.keras.layers.Dense(10, activation='softmax')\n",
    "])"
   ]
  },
  {
   "cell_type": "code",
   "execution_count": 5,
   "metadata": {},
   "outputs": [
    {
     "name": "stdout",
     "output_type": "stream",
     "text": [
      "Model: \"sequential\"\n",
      "_________________________________________________________________\n",
      "Layer (type)                 Output Shape              Param #   \n",
      "=================================================================\n",
      "conv2d (Conv2D)              (None, 26, 26, 64)        640       \n",
      "_________________________________________________________________\n",
      "max_pooling2d (MaxPooling2D) (None, 13, 13, 64)        0         \n",
      "_________________________________________________________________\n",
      "conv2d_1 (Conv2D)            (None, 11, 11, 64)        36928     \n",
      "_________________________________________________________________\n",
      "max_pooling2d_1 (MaxPooling2 (None, 5, 5, 64)          0         \n",
      "_________________________________________________________________\n",
      "flatten (Flatten)            (None, 1600)              0         \n",
      "_________________________________________________________________\n",
      "dense (Dense)                (None, 128)               204928    \n",
      "_________________________________________________________________\n",
      "dense_1 (Dense)              (None, 10)                1290      \n",
      "=================================================================\n",
      "Total params: 243,786\n",
      "Trainable params: 243,786\n",
      "Non-trainable params: 0\n",
      "_________________________________________________________________\n",
      "Epoch 1/5\n",
      "1875/1875 [==============================] - 119s 63ms/step - loss: 0.5921 - accuracy: 0.7867s - loss: 0.5926 - accu\n",
      "Epoch 2/5\n",
      "1875/1875 [==============================] - 124s 66ms/step - loss: 0.3014 - accuracy: 0.8892\n",
      "Epoch 3/5\n",
      "1875/1875 [==============================] - 126s 67ms/step - loss: 0.2490 - accuracy: 0.9075\n",
      "Epoch 4/5\n",
      "1875/1875 [==============================] - 127s 68ms/step - loss: 0.2139 - accuracy: 0.9221\n",
      "Epoch 5/5\n",
      "1875/1875 [==============================] - 142s 76ms/step - loss: 0.1856 - accuracy: 0.9291\n",
      "313/313 [==============================] - 9s 27ms/step - loss: 0.2525 - accuracy: 0.9094 0s - loss: 0.2541 - accuracy\n"
     ]
    }
   ],
   "source": [
    "model.compile(optimizer='adam', loss='sparse_categorical_crossentropy', metrics=['accuracy'])\n",
    "model.summary()    # To see the steps\n",
    "model.fit(training_images, training_labels, epochs=20, callbacks=[callbacks])\n",
    "test_loss = model.evaluate(test_images, test_labels)"
   ]
  },
  {
   "cell_type": "code",
   "execution_count": 6,
   "metadata": {},
   "outputs": [
    {
     "name": "stdout",
     "output_type": "stream",
     "text": [
      "[5.1624735e-04 2.6852867e-06 4.8101287e-02 1.4629580e-07 9.9626717e+01\n",
      " 6.8388562e-07 3.2465321e-01 2.6918068e-08 2.9954805e-07 9.5582673e-06]\n",
      "4\n"
     ]
    }
   ],
   "source": [
    "# Now we want to do a little prediction to see if it can say what a random picture from the test set is!\n",
    "\n",
    "classifications = model.predict(test_images)\n",
    "\n",
    "print(classifications[10]*100)\n",
    "print(test_labels[10])"
   ]
  },
  {
   "cell_type": "code",
   "execution_count": null,
   "metadata": {},
   "outputs": [],
   "source": []
  }
 ],
 "metadata": {
  "kernelspec": {
   "display_name": "Python 3",
   "language": "python",
   "name": "python3"
  },
  "language_info": {
   "codemirror_mode": {
    "name": "ipython",
    "version": 3
   },
   "file_extension": ".py",
   "mimetype": "text/x-python",
   "name": "python",
   "nbconvert_exporter": "python",
   "pygments_lexer": "ipython3",
   "version": "3.8.5"
  }
 },
 "nbformat": 4,
 "nbformat_minor": 4
}
